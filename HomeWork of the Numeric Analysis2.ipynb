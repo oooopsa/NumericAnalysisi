{
 "cells": [
  {
   "cell_type": "markdown",
   "metadata": {},
   "source": [
    "题目1:对$x_0,x_1,x_2$构造三次poly函数,s.t. \n",
    "$$P_{n}(x_i) = f(x_i)\\quad and\\quad \\frac{{\\rm d}P_n(x_1)}{{\\rm d}x} = \\frac{{\\rm d}f(x_1)}{{\\rm d}x},0<=i<=2$$\n",
    "\n",
    "for example:\n",
    "x = [1 2 3]\n",
    "y = [1 4 9]\n",
    "f' = 4"
   ]
  },
  {
   "cell_type": "code",
   "execution_count": null,
   "metadata": {},
   "outputs": [],
   "source": [
    "import math\n",
    "import matplotlib.pyplot as plt\n",
    "import numpy as np"
   ]
  },
  {
   "cell_type": "code",
   "execution_count": null,
   "metadata": {},
   "outputs": [],
   "source": [
    "def difference_quotient_cal(x,y,diff_y):\n",
    "    param = [list(y)]\n",
    "\n",
    "    n = len(x)\n",
    "    for i in range(n):\n",
    "        t = list()\n",
    "        index = 0\n",
    "        if i == 0:\n",
    "            for j in range(n-i):\n",
    "                if j == 1:\n",
    "                    t.append(diff_y)\n",
    "                else:\n",
    "                    t.append((param[i][index + 1] - param[i][index]) / (x[j + i + 1] - x[j]))\n",
    "            \n",
    "        param.append(t)\n",
    "\n",
    "    print(param)\n",
    "\n",
    "    res = [param[i][0] for i in range(n)]\n",
    "\n",
    "    return res\n",
    "\n",
    "def newton_interpolate(x_in,y_in,x,diff_y):\n",
    "    coef = difference_quotient_cal(x_in,y_in,diff_y)\n",
    "    p = coef[0]\n",
    "    for i in range(1,len(coef)):\n",
    "        product = 1\n",
    "        for j in range(i):\n",
    "            product *= (x - x_in[j])\n",
    "        p += coef[i]*product\n",
    "    return p\n",
    "\n",
    "\n",
    "a = [1,2,2,3]\n",
    "b = [1,4,9]\n",
    "diff_y = 4\n",
    "x = np.linspace(1,3)\n",
    "\n",
    "y = list(map(lambda t: newton_interpolate(a,b,t,diff_y),x))\n",
    "\n",
    "plt.scatter(a,b,color = \"orange\")\n",
    "plt.plot(x,y)\n",
    "plt.legend([\"scattered points\",\"lagrange_interpolated\"])\n",
    "plt.show()\n",
    "\n",
    "        "
   ]
  }
 ],
 "metadata": {
  "kernelspec": {
   "display_name": "base",
   "language": "python",
   "name": "python3"
  },
  "language_info": {
   "codemirror_mode": {
    "name": "ipython",
    "version": 3
   },
   "file_extension": ".py",
   "mimetype": "text/x-python",
   "name": "python",
   "nbconvert_exporter": "python",
   "pygments_lexer": "ipython3",
   "version": "3.9.13"
  }
 },
 "nbformat": 4,
 "nbformat_minor": 2
}
