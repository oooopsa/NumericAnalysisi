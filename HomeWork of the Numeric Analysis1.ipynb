{
 "cells": [
  {
   "cell_type": "markdown",
   "id": "6a0f1b4c",
   "metadata": {},
   "source": [
    "通过牛顿迭代法计算平方根:\n",
    "$$\n",
    "x_1 = \\frac{x_0 + \\frac{x}{ x_0 }}{2}\n",
    "\\\\\n",
    "x_0 = x_1\n",
    "$$"
   ]
  },
  {
   "cell_type": "code",
   "execution_count": null,
   "id": "d90f5d62",
   "metadata": {},
   "outputs": [],
   "source": [
    "import math\n",
    "\n",
    "def mysqrt(x):\n",
    "    epsilon = 1e-6\n",
    "    x0 = 1\n",
    "    x1 = 1\n",
    "    #默认输入求解结果大于零\n",
    "    while True:\n",
    "        x0 = (x0 + x / x0) / 2\n",
    "        if abs(x0 - x1) < epsilon:\n",
    "            break\n",
    "        x1 = x0\n",
    "    return x0\n",
    "\n",
    "a = 5\n",
    "out1 = math.sqrt(a)\n",
    "out2 = mysqrt(a)\n",
    "\n",
    "print(\"The result via Python's Math is :\" + str(out1))\n",
    "print(\"The result via Newton's Method is:\" + str(out2))"
   ]
  },
  {
   "cell_type": "markdown",
   "id": "7c1a68a1",
   "metadata": {},
   "source": [
    "通过割圆术计算PI的值:\n",
    "其思想是将圆等分为n份后在不断做二分逼近,最终在数值上做出近似的结果。\n",
    "代码实现上大抵分为:DP算法,递归算法等"
   ]
  },
  {
   "cell_type": "code",
   "execution_count": null,
   "id": "d9e21423",
   "metadata": {},
   "outputs": [],
   "source": [
    "r = 1  # Global Variable\n",
    "\n",
    "\n",
    "#递归算法效率太低 没有编写\n",
    "\n",
    "#动态规划算法\n",
    "def calcuPI(n:int):\n",
    "    i = 1\n",
    "    edge_list = list()\n",
    "    edge_list.append(1)\n",
    "    while i <= n:\n",
    "        x_n1 = edge_list[i-1]\n",
    "        x_n = math.sqrt(x_n1**2 / 4 + (1 - math.sqrt(1 - x_n1**2 / 4))**2)\n",
    "        edge_list.append(x_n)\n",
    "        i = i+1\n",
    "    x = edge_list[n-1]\n",
    "    return 6 * (2**(n-1)) * math.sqrt(1 - x**2 / 4) * x / 2\n",
    "    \n",
    "\n",
    "out1 = calcuPI(7)\n",
    "\n",
    "print(\"The PI calculated by 6*xe+7 polygon is:\" + str(out1))\n",
    "print(\"The division of myPI and math.pi is:\" + str(out1 / math.pi))"
   ]
  },
  {
   "cell_type": "code",
   "execution_count": null,
   "id": "972c11cf",
   "metadata": {},
   "outputs": [],
   "source": [
    "n1 = int(math.log2(96 / 6))\n",
    "n2 = int(math.log2(192 / 6))\n",
    "\n",
    "omiga = 1 / 3\n",
    "\n",
    "myPI = calcuPI(n2) + omiga * (calcuPI(n2) - calcuPI(n1))\n",
    "\n",
    "print(\"The result of the loosen calcu is:\" + str(myPI))\n",
    "print(\"The standardModule of Python is:\" + str(math.pi))"
   ]
  },
  {
   "cell_type": "markdown",
   "id": "8bf611db",
   "metadata": {},
   "source": [
    "课本 P49 ex17 $\\\\$\n",
    "设$ f(x) = \\frac{1}{1+x^2} $,在$-5\\le x \\le5$上取n = 10,按等距节点求分段线性插值函数$I_n(x)$,计算各节点间中点处的$I_n(x){\\text 与}f(x)$的值和误差。"
   ]
  },
  {
   "cell_type": "code",
   "execution_count": null,
   "id": "d9510da1",
   "metadata": {},
   "outputs": [],
   "source": [
    "import matplotlib.pyplot as plt\n",
    "import numpy as np\n",
    "\n",
    "\n",
    "def linearInterpolation(x1, x2, y1, y2, x):\n",
    "    return y1 + (y2 - y1) * (x - x1) / (x2 - x1)\n",
    "\n",
    "\n",
    "def calcuInterpolation(x_in,y_in, x):\n",
    "    for i in range(len(x_in) - 1):\n",
    "        if x >= x_in[i] and x < x_in[i + 1]:\n",
    "            return linearInterpolation(x_in[i], x_in[i + 1], y_in[i], y_in[i + 1], x)\n",
    "            \n",
    "    \n",
    "\n",
    "\n",
    "def targetFunction(x):\n",
    "    return 1 / (1 + x**2)\n",
    "\n",
    "x0 = np.linspace(-5,5,11)\n",
    "\n",
    "y0 = targetFunction(x0)\n",
    "\n",
    "x = np.linspace(-5,5,10000)\n",
    "\n",
    "y = targetFunction(x)\n",
    "\n",
    "y_interpolation = list(map(lambda t:calcuInterpolation(x0,y0,t),x))\n",
    "\n",
    "x_redis = [(x0[i] + x0[i+1]) / 2 for i in range(len(x0) - 1)]\n",
    "y_redis = [targetFunction(x_redis[i]) - calcuInterpolation(x0,y0,x_redis[i]) for i in range(len(x_redis))]\n",
    "\n",
    "print(\"中点数值残差和为:\" + str(sum(y_redis)))\n",
    "\n",
    "plt.scatter(x0,y0,color = \"red\")\n",
    "plt.plot(x,y)\n",
    "plt.plot(x,y_interpolation)\n",
    "plt.scatter(x_redis,y_redis,color = \"orange\")\n",
    "\n",
    "plt.legend([\"ScatterOfX&Y\",\"targetFuction\",\"linearInterpolation\",\"Redisual\"])\n",
    "plt.show()\n"
   ]
  }
 ],
 "metadata": {
  "kernelspec": {
   "display_name": "Python 3 (ipykernel)",
   "language": "python",
   "name": "python3"
  },
  "language_info": {
   "codemirror_mode": {
    "name": "ipython",
    "version": 3
   },
   "file_extension": ".py",
   "mimetype": "text/x-python",
   "name": "python",
   "nbconvert_exporter": "python",
   "pygments_lexer": "ipython3",
   "version": "3.9.13"
  }
 },
 "nbformat": 4,
 "nbformat_minor": 5
}
